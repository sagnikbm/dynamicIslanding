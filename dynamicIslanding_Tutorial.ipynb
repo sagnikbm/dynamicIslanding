{
 "cells": [
  {
   "cell_type": "markdown",
   "metadata": {},
   "source": [
    "<h2><center>Dynamic Islanding in Power Systems Based on Real-Time Operating Conditions</center></h2>\n",
    "\n",
    "<h2><center>Sagnik Basumallik</center></h2>\n",
    "\n",
    "This tutorial is for the following paper below. \n",
    "\n",
    "<h4><center>S. Basumallik and S. Eftekharnejad, \"Dynamic Islanding in Power Systems Based on Real-Time Operating Conditions,\" 2019 North American Power Symposium (NAPS), Wichita, KS, USA, 2019, pp. 1-6.</center></h4>\n",
    "\n",
    "Full version available on Github: https://github.com/sagnikbm/dynamicIslanding\n",
    "or ResearchGate https://www.researchgate.net/publication/339333134_Dynamic_Islanding_in_Power_Systems_Based_on_Real-Time_Operating_Conditions.\n",
    "\n",
    "(Please note the paper on IEEExplore has a typo in equation (5) which unfortunately I was not able to correct even after multiple requests to IEEE. Please access the papers on Github or ResearchGate for the correct version. I apologize for this.)\n",
    "\n",
    "Please cite the following papers if you find the tutorial helpful:\n",
    "\n",
    "[1] S. Basumallik and S. Eftekharnejad, \"Dynamic Islanding in Power Systems Based on Real-Time Operating Conditions,\" 2019 North American Power Symposium (NAPS), Wichita, KS, USA, 2019, pp. 1-6\n",
    "\n",
    "[2] A. Kyriacou, P. Demetriou, C. Panayiotou and E. Kyriakides, \"Controlled Islanding Solution for Large-Scale Power Systems,\" in IEEE Transactions on Power Systems, vol. 33, no. 2, pp. 1591-1602, March 2018.\n",
    "\n"
   ]
  },
  {
   "cell_type": "markdown",
   "metadata": {},
   "source": [
    "We demonstrate the process of controlled islanding for a IEEE 14 bus system using Python and Gurobi. The following figure shows the node injections of the original test system in MW. The objective is to partition the system into 2 islands while maintaining load-generation balance."
   ]
  },
  {
   "cell_type": "code",
   "execution_count": 1,
   "metadata": {},
   "outputs": [],
   "source": [
    "from IPython.display import Image\n",
    "Image(filename='input.png') "
   ]
  },
  {
   "cell_type": "markdown",
   "metadata": {},
   "source": [
    "The first step involves installing Python, Gurobi and importing associated libraries."
   ]
  },
  {
   "cell_type": "code",
   "execution_count": 2,
   "metadata": {},
   "outputs": [],
   "source": [
    "from gurobipy import *\n",
    "import numpy as np"
   ]
  },
  {
   "cell_type": "markdown",
   "metadata": {},
   "source": [
    "The next steps is to create the multidictionaries in Python where all related network data is stored. Please install multidict using \"pip install multidict\""
   ]
  },
  {
   "cell_type": "code",
   "execution_count": 3,
   "metadata": {},
   "outputs": [],
   "source": [
    "# this line builds a dictionary of network edges and edge weights\n",
    "\n",
    "# s = open(r'arcs.txt', 'r').read()\n",
    "s = open(r'C:/Users/sbasumal/Google Drive/Documents/5. FDIA and Islanding/PycharmProjects/Island/Data/14 bus/arcs.txt', 'r').read()\n",
    "arcs, weights= multidict(eval(\"{\" + s + \"}\"))\n",
    "\n",
    "# this line reads all coherent generator information   (not considered in IEEE 14 bus)\n",
    "\n",
    "# s = open(r'genCoherentSteiner.txt', 'r').read()\n",
    "# genCoherentSteiner,genArea= multidict(eval(\"{\" + s + \"}\"))\n",
    "\n",
    "# this line reads all nodes and their corresponding load-generation injection values t\n",
    "\n",
    "# s = open(r'nodes.txt', 'r').read()\n",
    "s = open(r'C:/Users/sbasumal/Google Drive/Documents/5. FDIA and Islanding/PycharmProjects/Island/Data/14 bus/nodes.txt', 'r').read()\n",
    "nodes,t= multidict(eval(\"{\" + s + \"}\"))\n",
    "\n",
    "# this line reads all Steiner lines corresponding to coherent generators (not considered in IEEE 14 bus)\n",
    "\n",
    "# s = open(r'lineSteiner.txt', 'r').read()\n",
    "# lineSteiner,lineArea= multidict(eval(\"{\" + s + \"}\"))\n",
    "\n",
    "\n",
    "\n"
   ]
  },
  {
   "cell_type": "markdown",
   "metadata": {},
   "source": [
    "We first define the number of partitions in the island"
   ]
  },
  {
   "cell_type": "code",
   "execution_count": 4,
   "metadata": {},
   "outputs": [],
   "source": [
    "area=range(1,3) # number of areas"
   ]
  },
  {
   "cell_type": "markdown",
   "metadata": {},
   "source": [
    "We then create optimization model. Henceforth, all variables will be associated with model m"
   ]
  },
  {
   "cell_type": "code",
   "execution_count": 5,
   "metadata": {},
   "outputs": [
    {
     "name": "stdout",
     "output_type": "stream",
     "text": [
      "Using license file C:\\Apps-SU\\gurobi900\\gurobi.lic\n",
      "Academic license - for non-commercial use only\n"
     ]
    }
   ],
   "source": [
    "m = Model('graphPartition')"
   ]
  },
  {
   "cell_type": "markdown",
   "metadata": {},
   "source": [
    "Next, we create the variables needed for islanding. These include $x_{i,j}, w_{i,j,h}$ and $z_{i,j}$"
   ]
  },
  {
   "cell_type": "code",
   "execution_count": 6,
   "metadata": {},
   "outputs": [],
   "source": [
    "##############################################################################################\n",
    "###########################Partition Variables################################################\n",
    "\n",
    "#x(i,h) tells if node i is in area(partition) h\n",
    "x = m.addVars(nodes, area,vtype=GRB.BINARY, name=\"x\")\n",
    "# w(i,j,h) is the auxiliary variable indicating if edge (i,j) is in area h\n",
    "w = m.addVars(arcs,area, vtype=GRB.BINARY, name=\"w\")\n",
    "# z(i,j) indicates whether edge (i,j) would be added to cost\n",
    "z = m.addVars(arcs, vtype=GRB.BINARY,name=\"z\")\n",
    "\n",
    "m.update()"
   ]
  },
  {
   "cell_type": "markdown",
   "metadata": {},
   "source": [
    "Next, we create connectivity variables. The source variable in each island $u_{j,h}$. The flow variable $f$ that ensures connectivity in each island"
   ]
  },
  {
   "cell_type": "code",
   "execution_count": 7,
   "metadata": {},
   "outputs": [],
   "source": [
    "##############################################################################################\n",
    "###########################Connectivity Variables#############################################\n",
    "\n",
    "# u(j,h) indicates if j_th node is the source node in partition h\n",
    "\n",
    "u = np.zeros((len(nodes)+1,len(area)+1))\n",
    "u[1,1] = 1\n",
    "u[14,2] = 1\n",
    "\n",
    "f1 = m.addVars(arcs,area,name=\"f\")\n",
    "m.update()"
   ]
  },
  {
   "cell_type": "markdown",
   "metadata": {},
   "source": [
    "Next, we create imbalance variable $S$ for each island"
   ]
  },
  {
   "cell_type": "code",
   "execution_count": 8,
   "metadata": {},
   "outputs": [],
   "source": [
    "S=m.addVars(area, name=\"t\")\n",
    "m.update()"
   ]
  },
  {
   "cell_type": "markdown",
   "metadata": {},
   "source": [
    "In the next section, we look at building different constraints. The first set of constraints are the partition constraints"
   ]
  },
  {
   "cell_type": "markdown",
   "metadata": {},
   "source": [
    "The auxiliary variables $w_{i,j,h}$ are related to $x_{i,h}$ as,\n",
    "\n",
    "\\begin{equation}\n",
    "\\begin{aligned}\\label{distribute5}\n",
    "&w_{i,j,h} \\leq x_{i,h}&(i,j) \\in E,  h\\in K \\\\\n",
    "&w_{i,j,h} \\leq x_{j,h}&(i,j) \\in E,  h\\in K\\\\\n",
    "\\end{aligned}\n",
    "\\end{equation}"
   ]
  },
  {
   "cell_type": "code",
   "execution_count": 9,
   "metadata": {},
   "outputs": [],
   "source": [
    "m.addConstrs(w[i,j,h] <= x[i,h] for i, j in arcs for h in area) \n",
    "m.addConstrs(w[i,j,h] <= x[j,h] for i, j in arcs for h in area) \n",
    "m.update()"
   ]
  },
  {
   "cell_type": "markdown",
   "metadata": {},
   "source": [
    "The binary variable $z_{i,j}$ is relaxed using auxiliary variables $w_{i,j,h}$ as,\n",
    "\n",
    "\\begin{equation}\n",
    "\\begin{aligned}\n",
    "& z_{i,j} = \\sum_{h \\in K}w_{i,j,h}, &  (i,j) \\in E\\\\\n",
    "& z_{i,j} = z_{j,i}, & (i,j),(j,i) \\in E\\\\\n",
    "\\end{aligned}\n",
    "\\end{equation}"
   ]
  },
  {
   "cell_type": "code",
   "execution_count": 10,
   "metadata": {},
   "outputs": [],
   "source": [
    "m.addConstrs(z[i,j] == w.sum(i,j,'*') for i, j in arcs)        \n",
    "m.addConstrs(z[i,j] == z[j,i] for i,j in arcs)\n",
    "m.update()"
   ]
  },
  {
   "cell_type": "markdown",
   "metadata": {},
   "source": [
    "The constraints restricting a node in a single area and ensuring that at least $M$ nodes are in a given area are,\n",
    "\n",
    "\\begin{equation}\n",
    "\\begin{aligned}\n",
    "&\\sum_{h \\in K}x_{i,h} = 1, & i \\in V\\\\\n",
    "&\\sum_{ i \\in V}x_{i,h} \\geq M, & h \\in K\n",
    "\\end{aligned}\n",
    "\\end{equation}"
   ]
  },
  {
   "cell_type": "code",
   "execution_count": 11,
   "metadata": {},
   "outputs": [],
   "source": [
    "m.addConstrs(x.sum(i,'*') == 1 for i in nodes)                  \n",
    "m.addConstrs(x.sum('*',h) >= 6 for h in area)   \n",
    "m.update()"
   ]
  },
  {
   "cell_type": "markdown",
   "metadata": {},
   "source": [
    "The second set of constraints are the connectivity constraints. To ensure each area is connected, a continuous flow variable $f_{i,j,h}$ is introduced,\n",
    "\n",
    "\\begin{equation}\n",
    "\\begin{aligned}\n",
    "&0 \\leq f_{i,j,h} \\leq |V|z_{i,j},&&  (i,j) \\in E, h \\in K\n",
    "\\end{aligned}\n",
    "\\end{equation}"
   ]
  },
  {
   "cell_type": "code",
   "execution_count": 12,
   "metadata": {},
   "outputs": [],
   "source": [
    "m.addConstrs(0 <= f1[i,j,h] for i,j in arcs for h in area) \n",
    "m.addConstrs(f1[i,j,h] <= 14*z[i,j] for i,j in arcs for h in area) \n",
    "m.update()"
   ]
  },
  {
   "cell_type": "markdown",
   "metadata": {},
   "source": [
    "The network flow constrained for $h \\in K$ is thus given as,\n",
    "\n",
    "\\begin{equation}\n",
    "\\begin{aligned}\n",
    "u_{j,h} \\sum_{i \\in V}x_{i,h} - x_{j,h}+\\sum_{\\substack{i,j \\in V,\\\\(i,j) \\in E}}f_{i,j,h} = \\sum_{\\substack{{}i,j \\in V,\\\\(j,i) \\in E}}f_{j,i,h}\n",
    "\\end{aligned}\n",
    "\\end{equation}"
   ]
  },
  {
   "cell_type": "code",
   "execution_count": 13,
   "metadata": {},
   "outputs": [],
   "source": [
    "m.addConstrs(u[j,h]*x.sum('*',h)-x[j,h]+f1.sum('*',j,h)==f1.sum(j,'*',h) for j in nodes for h in area)\n",
    "m.update()"
   ]
  },
  {
   "cell_type": "markdown",
   "metadata": {},
   "source": [
    "Let the slack variable $S_h$ denote the mismatch in each island $h$ and be defined as $S_h = |\\sum_{i=1}^{n}t_i x_{i,h}|$. The slack variable $S_h$ is relaxed using the following two constraints to accommodate the absolute values,\n",
    "\n",
    "\n",
    "\\begin{equation}\n",
    "\\begin{aligned}\n",
    "\\sum_{i=1}^{n}t_i x_{i,h} \\geq -S_h  \\\\\n",
    "\\sum_{i=1}^{n}t_i x_{i,h}  \\leq S_h\\\\\n",
    "\\end{aligned} \\label{eq:const}\n",
    "\\end{equation}"
   ]
  },
  {
   "cell_type": "code",
   "execution_count": 14,
   "metadata": {},
   "outputs": [],
   "source": [
    "m.addConstrs((quicksum(t[i]*x[i,h] for i in nodes) <= S[h] for h in area))\n",
    "m.addConstrs((quicksum(t[i]*x[i,h] for i in nodes) >= -S[h] for h in area))\n",
    "m.update()"
   ]
  },
  {
   "cell_type": "markdown",
   "metadata": {},
   "source": [
    "To reduce the search space of the candidate transmission lines to be disconnected, another constraint is introduced,\n",
    "\n",
    "\\begin{equation}\n",
    "\\begin{aligned}\n",
    "&z_{i,j} = 1,& (i,j) \\in E_{l}\n",
    "\\end{aligned}\n",
    "\\end{equation}\n",
    "where lines $E_{l} \\subset E$ are the set of lines that belong to the Steiner tree connecting all coherent generators in an island. "
   ]
  },
  {
   "cell_type": "code",
   "execution_count": 15,
   "metadata": {},
   "outputs": [],
   "source": [
    "# m.addConstrs(z[i,j]==1 for i,j in lineSteiner)\n",
    "# m.update()"
   ]
  },
  {
   "cell_type": "markdown",
   "metadata": {},
   "source": [
    "The objective function of minimizing load-generation imbalance is\n",
    "\n",
    "\\begin{equation}\n",
    "\\begin{aligned}\\label{distribute}\n",
    "& {\\text{minimize}}\n",
    "& & \\sum_{h=1}^{k} S_h \n",
    "\\end{aligned}\n",
    "\\end{equation}"
   ]
  },
  {
   "cell_type": "code",
   "execution_count": 16,
   "metadata": {},
   "outputs": [],
   "source": [
    "m.setObjective(S.sum())"
   ]
  },
  {
   "cell_type": "markdown",
   "metadata": {},
   "source": [
    "The objective function of minimizing load-generation imbalance can be combined with minimizing total number of lines disconnected,\n",
    "\n",
    "\\begin{equation}\n",
    "\\begin{aligned}\\label{distribute}\n",
    "& {\\text{minimize}}\n",
    "& & \\sum_{h=1}^{k} S_h + \\sum_{(i,j) \\in E}\\frac{1}{2}(1-z_{i,j})d_{i,j}\n",
    "\\end{aligned}\n",
    "\\end{equation}"
   ]
  },
  {
   "cell_type": "code",
   "execution_count": 17,
   "metadata": {},
   "outputs": [],
   "source": [
    "m.setObjective(S.sum()+(0.5*(sum(weights[i,j] for i,j in arcs))-z.prod(weights)))"
   ]
  },
  {
   "cell_type": "markdown",
   "metadata": {},
   "source": [
    "Next, we set the objective to be minimized and optimize our objectives "
   ]
  },
  {
   "cell_type": "code",
   "execution_count": 18,
   "metadata": {},
   "outputs": [
    {
     "name": "stdout",
     "output_type": "stream",
     "text": [
      "Gurobi Optimizer version 9.0.0 build v9.0.0rc2 (win64)\n",
      "Optimize a model with 448 rows, 230 columns and 1088 nonzeros\n",
      "Model fingerprint: 0xa2b02a23\n",
      "Variable types: 82 continuous, 148 integer (148 binary)\n",
      "Coefficient statistics:\n",
      "  Matrix range     [1e+00, 5e+01]\n",
      "  Objective range  [1e+00, 1e+00]\n",
      "  Bounds range     [1e+00, 1e+00]\n",
      "  RHS range        [1e+00, 6e+00]\n",
      "Presolve removed 247 rows and 83 columns\n",
      "Presolve time: 0.00s\n",
      "Presolved: 201 rows, 147 columns, 615 nonzeros\n",
      "Variable types: 76 continuous, 71 integer (70 binary)\n",
      "\n",
      "Root relaxation: objective -2.000000e+01, 76 iterations, 0.00 seconds\n",
      "\n",
      "    Nodes    |    Current Node    |     Objective Bounds      |     Work\n",
      " Expl Unexpl |  Obj  Depth IntInf | Incumbent    BestBd   Gap | It/Node Time\n",
      "\n",
      "     0     0  -20.00000    0   51          -  -20.00000      -     -    0s\n",
      "     0     0  -14.54545    0   53          -  -14.54545      -     -    0s\n",
      "H    0     0                     166.0000000  -14.54545   109%     -    0s\n",
      "     0     0  -12.18182    0   59  166.00000  -12.18182   107%     -    0s\n",
      "H    0     0                     -10.0000000  -12.18182  21.8%     -    0s\n",
      "     0     0  -10.00000    0   59  -10.00000  -10.00000  0.00%     -    0s\n",
      "\n",
      "Cutting planes:\n",
      "  Gomory: 5\n",
      "  Implied bound: 1\n",
      "  RLT: 1\n",
      "\n",
      "Explored 1 nodes (193 simplex iterations) in 0.04 seconds\n",
      "Thread count was 12 (of 12 available processors)\n",
      "\n",
      "Solution count 2: -10 166 \n",
      "No other solutions better than -10\n",
      "\n",
      "Optimal solution found (tolerance 1.00e-04)\n",
      "Best objective -1.000000000000e+01, best bound -1.000000000000e+01, gap 0.0000%\n"
     ]
    }
   ],
   "source": [
    "m.modelSense = GRB.MINIMIZE\n",
    "m.optimize()"
   ]
  },
  {
   "cell_type": "markdown",
   "metadata": {},
   "source": [
    "Print all variables"
   ]
  },
  {
   "cell_type": "code",
   "execution_count": 19,
   "metadata": {},
   "outputs": [
    {
     "name": "stdout",
     "output_type": "stream",
     "text": [
      "x[1,1] 1\n",
      "x[1,2] 0\n",
      "x[2,1] 1\n",
      "x[2,2] 0\n",
      "x[3,1] -0\n",
      "x[3,2] 1\n",
      "x[4,1] -0\n",
      "x[4,2] 1\n",
      "x[5,1] 1\n",
      "x[5,2] 0\n",
      "x[6,1] 1\n",
      "x[6,2] 0\n",
      "x[7,1] -0\n",
      "x[7,2] 1\n",
      "x[8,1] -0\n",
      "x[8,2] 1\n",
      "x[9,1] -0\n",
      "x[9,2] 1\n",
      "x[10,1] -0\n",
      "x[10,2] 1\n",
      "x[11,1] 1\n",
      "x[11,2] 0\n",
      "x[12,1] 1\n",
      "x[12,2] 0\n",
      "x[13,1] 1\n",
      "x[13,2] 0\n",
      "x[14,1] -0\n",
      "x[14,2] 1\n",
      "w[1,2,1] 1\n",
      "w[1,2,2] -0\n",
      "w[1,5,1] 1\n",
      "w[1,5,2] 0\n",
      "w[2,3,1] 0\n",
      "w[2,3,2] 0\n",
      "w[2,4,1] 0\n",
      "w[2,4,2] 0\n",
      "w[2,5,1] 1\n",
      "w[2,5,2] 0\n",
      "w[3,4,1] -0\n",
      "w[3,4,2] 1\n",
      "w[4,5,1] -0\n",
      "w[4,5,2] 0\n",
      "w[4,7,1] 0\n",
      "w[4,7,2] 1\n",
      "w[4,9,1] -0\n",
      "w[4,9,2] 1\n",
      "w[5,6,1] 1\n",
      "w[5,6,2] 0\n",
      "w[6,11,1] 1\n",
      "w[6,11,2] 0\n",
      "w[6,12,1] 1\n",
      "w[6,12,2] 0\n",
      "w[6,13,1] 1\n",
      "w[6,13,2] 0\n",
      "w[7,8,1] -0\n",
      "w[7,8,2] 1\n",
      "w[7,9,1] 0\n",
      "w[7,9,2] 1\n",
      "w[9,10,1] 0\n",
      "w[9,10,2] 1\n",
      "w[9,14,1] 0\n",
      "w[9,14,2] 1\n",
      "w[10,11,1] 0\n",
      "w[10,11,2] 0\n",
      "w[12,13,1] 1\n",
      "w[12,13,2] 0\n",
      "w[13,14,1] 0\n",
      "w[13,14,2] 0\n",
      "w[2,1,1] 1\n",
      "w[2,1,2] 0\n",
      "w[5,1,1] 1\n",
      "w[5,1,2] 0\n",
      "w[3,2,1] 0\n",
      "w[3,2,2] 0\n",
      "w[4,2,1] -0\n",
      "w[4,2,2] 0\n",
      "w[5,2,1] 1\n",
      "w[5,2,2] 0\n",
      "w[4,3,1] 0\n",
      "w[4,3,2] 1\n",
      "w[5,4,1] 0\n",
      "w[5,4,2] 0\n",
      "w[7,4,1] -0\n",
      "w[7,4,2] 1\n",
      "w[9,4,1] 0\n",
      "w[9,4,2] 1\n",
      "w[6,5,1] 1\n",
      "w[6,5,2] 0\n",
      "w[11,6,1] 1\n",
      "w[11,6,2] 0\n",
      "w[12,6,1] 1\n",
      "w[12,6,2] -0\n",
      "w[13,6,1] 1\n",
      "w[13,6,2] 0\n",
      "w[8,7,1] -0\n",
      "w[8,7,2] 1\n",
      "w[9,7,1] -0\n",
      "w[9,7,2] 1\n",
      "w[10,9,1] 0\n",
      "w[10,9,2] 1\n",
      "w[14,9,1] 0\n",
      "w[14,9,2] 1\n",
      "w[11,10,1] 0\n",
      "w[11,10,2] 0\n",
      "w[13,12,1] 1\n",
      "w[13,12,2] 0\n",
      "w[14,13,1] 0\n",
      "w[14,13,2] 0\n",
      "z[1,2] 1\n",
      "z[1,5] 1\n",
      "z[2,3] 0\n",
      "z[2,4] 0\n",
      "z[2,5] 1\n",
      "z[3,4] 1\n",
      "z[4,5] 0\n",
      "z[4,7] 1\n",
      "z[4,9] 1\n",
      "z[5,6] 1\n",
      "z[6,11] 1\n",
      "z[6,12] 1\n",
      "z[6,13] 1\n",
      "z[7,8] 1\n",
      "z[7,9] 1\n",
      "z[9,10] 1\n",
      "z[9,14] 1\n",
      "z[10,11] 0\n",
      "z[12,13] 1\n",
      "z[13,14] 0\n",
      "z[2,1] 1\n",
      "z[5,1] 1\n",
      "z[3,2] 0\n",
      "z[4,2] 0\n",
      "z[5,2] 1\n",
      "z[4,3] 1\n",
      "z[5,4] 0\n",
      "z[7,4] 1\n",
      "z[9,4] 1\n",
      "z[6,5] 1\n",
      "z[11,6] 1\n",
      "z[12,6] 1\n",
      "z[13,6] 1\n",
      "z[8,7] 1\n",
      "z[9,7] 1\n",
      "z[10,9] 1\n",
      "z[14,9] 1\n",
      "z[11,10] 0\n",
      "z[13,12] 1\n",
      "z[14,13] 0\n",
      "f[1,2,1] 1\n",
      "f[1,2,2] 0\n",
      "f[1,5,1] 5\n",
      "f[1,5,2] 0\n",
      "f[2,3,1] 0\n",
      "f[2,3,2] 0\n",
      "f[2,4,1] 0\n",
      "f[2,4,2] 0\n",
      "f[2,5,1] 0\n",
      "f[2,5,2] 0\n",
      "f[3,4,1] 0\n",
      "f[3,4,2] 0\n",
      "f[4,5,1] 0\n",
      "f[4,5,2] 0\n",
      "f[4,7,1] 0\n",
      "f[4,7,2] 0\n",
      "f[4,9,1] 0\n",
      "f[4,9,2] 0\n",
      "f[5,6,1] 4\n",
      "f[5,6,2] 0\n",
      "f[6,11,1] 1\n",
      "f[6,11,2] 0\n",
      "f[6,12,1] 1\n",
      "f[6,12,2] 0\n",
      "f[6,13,1] 1\n",
      "f[6,13,2] 0\n",
      "f[7,8,1] 0\n",
      "f[7,8,2] 1\n",
      "f[7,9,1] 0\n",
      "f[7,9,2] 0\n",
      "f[9,10,1] 0\n",
      "f[9,10,2] 1\n",
      "f[9,14,1] 0\n",
      "f[9,14,2] 0\n",
      "f[10,11,1] 0\n",
      "f[10,11,2] 0\n",
      "f[12,13,1] 0\n",
      "f[12,13,2] 0\n",
      "f[13,14,1] 0\n",
      "f[13,14,2] 0\n",
      "f[2,1,1] 0\n",
      "f[2,1,2] 0\n",
      "f[5,1,1] 0\n",
      "f[5,1,2] 0\n",
      "f[3,2,1] 0\n",
      "f[3,2,2] 0\n",
      "f[4,2,1] 0\n",
      "f[4,2,2] 0\n",
      "f[5,2,1] 0\n",
      "f[5,2,2] 0\n",
      "f[4,3,1] 0\n",
      "f[4,3,2] 1\n",
      "f[5,4,1] 0\n",
      "f[5,4,2] 0\n",
      "f[7,4,1] 0\n",
      "f[7,4,2] 2\n",
      "f[9,4,1] 0\n",
      "f[9,4,2] 0\n",
      "f[6,5,1] 0\n",
      "f[6,5,2] 0\n",
      "f[11,6,1] 0\n",
      "f[11,6,2] 0\n",
      "f[12,6,1] 0\n",
      "f[12,6,2] 0\n",
      "f[13,6,1] 0\n",
      "f[13,6,2] 0\n",
      "f[8,7,1] 0\n",
      "f[8,7,2] 0\n",
      "f[9,7,1] 0\n",
      "f[9,7,2] 4\n",
      "f[10,9,1] 0\n",
      "f[10,9,2] 0\n",
      "f[14,9,1] 0\n",
      "f[14,9,2] 6\n",
      "f[11,10,1] 0\n",
      "f[11,10,2] 0\n",
      "f[13,12,1] 0\n",
      "f[13,12,2] 0\n",
      "f[14,13,1] 0\n",
      "f[14,13,2] 0\n",
      "t[1] 0\n",
      "t[2] 0\n"
     ]
    }
   ],
   "source": [
    "for v in m.getVars():\n",
    "    print('%s %g' % (v.varName, v.x))"
   ]
  },
  {
   "cell_type": "markdown",
   "metadata": {},
   "source": [
    "The partition results for 14 bus is with minimum load-generation imbalance and minimum number of lines disconnected is,"
   ]
  },
  {
   "cell_type": "code",
   "execution_count": 20,
   "metadata": {},
   "outputs": [
    {
     "data": {
      "image/png": "[encoded data removed]",
      "text/plain": [
       "<IPython.core.display.Image object>"
      ]
     },
     "execution_count": 20,
     "metadata": {},
     "output_type": "execute_result"
    }
   ],
   "source": [
    "Image(filename='output.png') "
   ]
  },
  {
   "cell_type": "markdown",
   "metadata": {},
   "source": [
    "Final Output: There are 2 partitions with 0 MW imbalance in each island with 5 lines disconnected."
   ]
  },
  {
   "cell_type": "code",
   "execution_count": null,
   "metadata": {},
   "outputs": [],
   "source": []
  }
 ],
 "metadata": {
  "kernelspec": {
   "display_name": "Python 3",
   "language": "python",
   "name": "python3"
  },
  "language_info": {
   "codemirror_mode": {
    "name": "ipython",
    "version": 3
   },
   "file_extension": ".py",
   "mimetype": "text/x-python",
   "name": "python",
   "nbconvert_exporter": "python",
   "pygments_lexer": "ipython3",
   "version": "3.6.5"
  }
 },
 "nbformat": 4,
 "nbformat_minor": 2
}
